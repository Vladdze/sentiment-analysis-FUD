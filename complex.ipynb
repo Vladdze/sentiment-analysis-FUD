{
 "cells": [
  {
   "cell_type": "code",
   "execution_count": 9,
   "metadata": {},
   "outputs": [],
   "source": [
    "#SETTING UP\n",
    "import credentials\n",
    "import settings\n",
    "import mysql.connector\n",
    "import pandas as pd\n",
    "import time\n",
    "import itertools\n",
    "import math\n",
    "\n",
    "import seaborn as sns\n",
    "import matplotlib.pyplot as plt\n",
    "import matplotlib as mpl\n",
    "import plotly.express as px\n",
    "import datetime\n",
    "from IPython.display import clear_output\n",
    "\n",
    "from nltk.probability import FreqDist\n",
    "from nltk.tokenize import word_tokenize\n",
    "from nltk.corpus import stopwords\n",
    "import re\n",
    "import nltk\n",
    "\n",
    "#LOAD DATA FROM MYSQL\n",
    "db_connection = mysql.connector.connect(\n",
    "    host=\"localhost\",\n",
    "    user=\"root\",\n",
    "    passwd=credentials.MYSQLPASSWORD,\n",
    "    database=\"twitterdb\",\n",
    "    auth_plugin='mysql_native_password',\n",
    "    charset = 'utf8'\n",
    ")\n"
   ]
  },
  {
   "cell_type": "code",
   "execution_count": null,
   "metadata": {},
   "outputs": [],
   "source": [
    "#PLOT SHOWING LATEST TWITTER DATA WITHIN 30 MINUTES THAT UPDATES AUTOMATICALLY.\n",
    "\n",
    "######################\n",
    "##  POLARITY LEGEND ##\n",
    "##   -1 NEGATIVE    ##\n",
    "##    0 NEUTRAL     ##\n",
    "##   +1 POSITIVE    ##\n",
    "######################\n",
    "\n",
    "while True:\n",
    "    clear_output()\n",
    "    db_connection = mysql.connector.connect(\n",
    "        host=\"localhost\",\n",
    "        user=\"root\",\n",
    "        passwd=credentials.MYSQLPASSWORD,\n",
    "        database=\"TwitterDB\",\n",
    "        charset = 'utf8'\n",
    "    )\n",
    "\n",
    "    timenow=datetime.datetime.now().strftime(\"%H:%M:%S\")\n",
    "\n",
    "    query = \"SELECT id_str, text, created_at, polarity FROM {} WHERE created_at >= '{}' \" \\\n",
    "                            .format(settings.TABLE_NAME, timenow)\n",
    "    df = pd.read_sql(query, con=db_connection)\n",
    "    df['created_at']=pd.to_datetime(df['created_at'])\n",
    "\n",
    "        #CLEAN AND TRANSFORM DATA TO ENABLE TIME SERIES\n",
    "    result=df.groupby([pd.Grouper(key='created_at', freq='2s'),'polarity']).count().unstack(fill_value=0).stack().reset_index()\n",
    "\n",
    "    result = result.rename(columns={\"id_str\": \"Num of '{}' mentions\".format('Ethereum'[0]), \"created_at\":\"Time in ET\"})\n",
    "\n",
    "    fig=px.line(result,x='Time in ET',\n",
    "                    y=\"Num of '{}' mentions\".format(\"Ethereum\"),color='polarity')\n",
    "    fig.show()\n",
    "    time.sleep(60)\n",
    "\n"
   ]
  }
 ],
 "metadata": {
  "kernelspec": {
   "display_name": "venv",
   "language": "python",
   "name": "python3"
  },
  "language_info": {
   "codemirror_mode": {
    "name": "ipython",
    "version": 3
   },
   "file_extension": ".py",
   "mimetype": "text/x-python",
   "name": "python",
   "nbconvert_exporter": "python",
   "pygments_lexer": "ipython3",
   "version": "3.10.7"
  },
  "orig_nbformat": 4
 },
 "nbformat": 4,
 "nbformat_minor": 2
}
