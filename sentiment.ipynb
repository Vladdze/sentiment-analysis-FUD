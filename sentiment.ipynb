{
 "cells": [
  {
   "cell_type": "code",
   "execution_count": null,
   "metadata": {},
   "outputs": [],
   "source": [
    "import credentials\n",
    "import settings\n",
    "import mysql.connector\n",
    "import pandas as pd\n",
    "import time\n",
    "import textblob\n",
    "import seaborn as sns\n",
    "import matplotlib.pyplot as plt\n",
    "import matplotlib as mpl\n",
    "import plotly.express as px\n",
    "import nltk\n",
    "import re\n",
    "from nltk.probability import FreqDist\n",
    "from nltk.tokenize import word_tokenize\n",
    "from nltk.corpus import stopwords\n",
    "nltk.download('punkt')\n",
    "nltk.download('stopwords')"
   ]
  },
  {
   "cell_type": "code",
   "execution_count": null,
   "metadata": {},
   "outputs": [],
   "source": [
    "# LOAD DATA FROM MYSQL\n",
    "db_connection = mysql.connector.connect(\n",
    "    host=\"localhost\",\n",
    "    user=\"root\",\n",
    "    passwd=credentials.MYSQLPASSWORD,\n",
    "    database=\"twitterdb\",\n",
    "    auth_plugin='mysql_native_password',\n",
    "    charset = 'utf8'\n",
    ")\n",
    "\n",
    "df = pd.read_sql('SELECT id_str, text, created_at, polarity, FROM {}'.format(settings.TABLE_NAME), con=db_connection)\n",
    "# DATE TIME\n",
    "df['created_at']=pd.to_datetime(df['created_at'])\n",
    "for index,tweets in df[df['polarity']== -1].iterrows():\n",
    "    print(\" \"+str(tweets[2])+ \" \"+tweets[1])"
   ]
  },
  {
   "cell_type": "code",
   "execution_count": null,
   "metadata": {},
   "outputs": [],
   "source": [
    "#SENTIMENT ANALYSIS WITH TEXTBLOB - NEGATIVE TWEETS ARE -1, POSITIVE TWEETS ARE +1, AND NEUTRAL TWEETS ARE 0. DONE BY THE PREPROCESSING FOR BETTER DATA STORAGE\n",
    "from textblob import TextBlob\n",
    "sentiment=TextBlob(tweet_text).sentiment\n",
    "polarity=sentiment.polarity\n",
    "subjectivity=sentiment.subjectivity"
   ]
  },
  {
   "cell_type": "code",
   "execution_count": null,
   "metadata": {},
   "outputs": [],
   "source": [
    "#CLEAN AND TRANSFORM DATA TO ENABLE TIME SERIES\n",
    "result=df.groupby(\n",
    "    [pd.Grouper(key='created_at',freq='2s'),'polarity']).count().unstack(fill_value=0).stack().reset_index()\n",
    "result=result.rename(columns=\n",
    "                     {\"id_str\":\"Num of '{}' mentions\".format(\"Ethereum\"),\"created_at\":\"Time in ET\"})\n",
    "time_series=result[\"Time in ET\"][result['polarity']==0].reset_index(drop=True)\n",
    "\n",
    "fig=px.line(result,x='Time in ET',\n",
    "            y=\"Num of '{}' mentions\".format(\"Ethereum\"),color='polarity')\n",
    "fig.show()"
   ]
  },
  {
   "cell_type": "code",
   "execution_count": null,
   "metadata": {},
   "outputs": [],
   "source": [
    "#TRACKING MOST FREQUENT VOCABULARY USED IN TWEETS\n",
    "\n",
    "#CLEANING\n",
    "content = ' '.join(df[\"text\"])\n",
    "content = re.sub(r\"http\\S+\", \"\", content)\n",
    "content = content.replace('&amp;', 'and')\n",
    "content = re.sub('[^A-Za-z0-9]+', ' ', content)\n",
    "content = content.lower()\n",
    "\n",
    "\n",
    "tokenwords=word_tokenize(content)\n",
    "stop_words=set(stopwords.words('english'))\n",
    "filtered_sen=[]\n",
    "\n",
    "for i in tokenwords:\n",
    "    if i not in stop_words:\n",
    "        filtered_sen.append(i)\n",
    "fdist=FreqDist(filtered_sen)\n",
    "fd=pd.DataFrame(fdist.most_common(20),\n",
    "                columns=[\"Word\",\"Frequency\"]).drop([0]).reindex()\n",
    "     "
   ]
  },
  {
   "cell_type": "code",
   "execution_count": 8,
   "metadata": {},
   "outputs": [],
   "source": [
    "# POTENTIALLY ADDING NEW STOPWORDS TO STOP_WORDS DICTIONARY.\n",
    "new_stopwords = []\n",
    "stop_words.extend()"
   ]
  },
  {
   "cell_type": "code",
   "execution_count": null,
   "metadata": {},
   "outputs": [],
   "source": []
  }
 ],
 "metadata": {
  "kernelspec": {
   "display_name": "venv",
   "language": "python",
   "name": "python3"
  },
  "language_info": {
   "codemirror_mode": {
    "name": "ipython",
    "version": 3
   },
   "file_extension": ".py",
   "mimetype": "text/x-python",
   "name": "python",
   "nbconvert_exporter": "python",
   "pygments_lexer": "ipython3",
   "version": "3.10.7"
  },
  "orig_nbformat": 4
 },
 "nbformat": 4,
 "nbformat_minor": 2
}
