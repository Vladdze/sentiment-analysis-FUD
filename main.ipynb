{
 "cells": [
  {
   "attachments": {},
   "cell_type": "markdown",
   "metadata": {},
   "source": [
    "THIS IS THE MAIN FUNCTION INCLUDES: EXTRACTING STREAMING DATA FROM TWITTER, PRE-PROCESSING AND STORES INTO MYSQL."
   ]
  },
  {
   "cell_type": "code",
   "execution_count": 1,
   "metadata": {},
   "outputs": [],
   "source": [
    "#SETTING UP\n",
    "\n",
    "import credentials              #IMPORTING CREDENTIALS.PY - IMPORTS API/ACCESS_TOKEN KEYS\n",
    "import settings                 #IMPORT SETTINGS\n",
    "import re\n",
    "import tweepy\n",
    "import pandas as pd\n",
    "from textblob import TextBlob\n",
    "import mysql.connector\n",
    "import demoji"
   ]
  },
  {
   "cell_type": "code",
   "execution_count": 2,
   "metadata": {},
   "outputs": [],
   "source": [
    "# STORE DATA IN MYSQL, CONNECTING TO SQLDATABASE\n",
    "mydb = mysql.connector.connect(\n",
    "    host=\"localhost\",\n",
    "    user=\"root\",\n",
    "    passwd=credentials.MYSQLPASSWORD,\n",
    "    database=\"twitterdb\",\n",
    "    auth_plugin='mysql_native_password',\n",
    "    charset = 'utf8'\n",
    ")\n",
    "\n",
    "if mydb.is_connected():\n",
    "#CHECK TO SEE IF TABLE EXISTS. IF NOT, CREATES ONE.\n",
    "    mycursor = mydb.cursor()\n",
    "    mycursor.execute(\"\"\"\n",
    "        SELECT COUNT(*)\n",
    "        FROM information_schema.tables\n",
    "        WHERE table_name = '{0}'\n",
    "        \"\"\".format(settings.TABLE_NAME))\n",
    "    if mycursor.fetchone()[0] != 1:\n",
    "        mycursor.execute(\"CREATE TABLE {} ({})\".format(settings.TABLE_NAME, settings.TABLE_ATTRIBUTES))\n",
    "        mydb.commit()\n",
    "    mycursor.close()"
   ]
  },
  {
   "cell_type": "code",
   "execution_count": 3,
   "metadata": {},
   "outputs": [],
   "source": [
    "#FUNCTIONS\n",
    "\n",
    "#PRE-PROCESSING\n",
    "def clean_tweet(tweet):\n",
    "    post=tweet.text\n",
    "    try:\n",
    "        post=re.sub(\"\\n\", \"\", post)   #REMOVE \"\\n\" IN TWEETS, \\n SEPERATES LINES VIA NEW LINE CHARACTER, REMOVES CLUTER\n",
    "        post=re.sub(r'https\\S+','',post) #REMOVE LINKS\n",
    "        post=re.sub(r'www\\.\\S+', '', post) #REMOVE LINKS\n",
    "        post=re.sub(r'@\\S+\\s?', '', post) #REMOVE MENTIONS\n",
    "        post=demoji.replace(post, '') #REMOVE EMOJIS\n",
    "        post=re.sub(r'ID\\S+\\s?','', post) #REMOVE ID/REFERALS IN TWEETS\n",
    "        post=re.sub(r'0x\\S+\\s?','', post) #REMOVE ETH WALLET ADDRESSES IN TWEETS\n",
    "        \n",
    "    except AttributeError:\n",
    "        post = tweet\n",
    "    #TWITTER NEW TEXT LIMITS FOR TWITTER BLUE USERS INCLUDES TWEET LENGTH OF UPTO 4,000 CHARACTERS. WILL STORE TWEETS UPTO 255 CHRACTERS.\n",
    "    return post.strip()[:255]\n",
    "\n",
    "\n",
    "#SQL PUSH TO TABLES, FUNCTION INSERTS DATA INTO TABLE USING DATA IN THE 'STRUCT' DICTIONARY\n",
    "def push_results_to_tables(table_name, struct, conn):\n",
    "    cursor = conn.cursor()\n",
    "    insert_SQL = f\"\"\"INSERT INTO {table_name}\n",
    "                ({', '.join(map(str, struct))})\n",
    "                VALUES('{\"','\".join(map(str,struct.values()))}');\n",
    "                \"\"\"\n",
    "    cursor.execute(insert_SQL)\n",
    "    cursor.commit()"
   ]
  },
  {
   "cell_type": "code",
   "execution_count": 4,
   "metadata": {},
   "outputs": [],
   "source": [
    "class MyStream(tweepy.StreamingClient):\n",
    "\n",
    "    # DISPLAYS \"CONNECTED\" ONCE STREAM IS CONNECTED\n",
    "    def on_connect(self):        \n",
    "        print(\"Connected\") \n",
    "\n",
    "    def on_tweet(self,tweet):   \n",
    "        \n",
    "    #EXTRACTING ATTRIBUTES FROM TWEETS\n",
    "        id_str = tweet.id\n",
    "        created_at = tweet.created_at\n",
    "        text = clean_tweet(tweet) # PRE-PROCESSING\n",
    "        user_id = tweet.author_id\n",
    "        ref_id=tweet.referenced_tweets\n",
    "        lang=tweet.lang\n",
    "        sentiment = TextBlob(text).sentiment\n",
    "        polarity = sentiment.polarity\n",
    "        subjectivity = sentiment.subjectivity\n",
    "        struct={'id_str':id_str,\n",
    "                'created_at':tweet.created_at,\n",
    "                'text':text,\n",
    "                'polarity':polarity,\n",
    "                'subjectivity':subjectivity}\n",
    "        print(struct)\n",
    "\n",
    "        if mydb.is_connected():\n",
    "            mycursor = mydb.cursor()\n",
    "            sql = \"INSERT INTO {} (id_str, created_at, text, polarity, subjectivity) VALUES (%s, %s, %s, %s, %s)\".format(settings.TABLE_NAME)\n",
    "            val = (id_str, created_at, text, polarity, subjectivity, )\n",
    "            mycursor.execute(sql, val)\n",
    "            mydb.commit()\n",
    "            mycursor.close()\n",
    "\n",
    "## TWITTER HAS RATE LIMITS, STOP DATA SCARPING AFTER THRESHOLD.\n",
    "    def on_error(self,status_code):\n",
    "        if status_code == 420:\n",
    "            return False\n",
    "        print(status_code)\n",
    "         "
   ]
  },
  {
   "cell_type": "code",
   "execution_count": 5,
   "metadata": {},
   "outputs": [
    {
     "name": "stdout",
     "output_type": "stream",
     "text": [
      "Connected\n",
      "{'id_str': 1638218668545921025, 'created_at': datetime.datetime(2023, 3, 21, 16, 39, 1, tzinfo=datetime.timezone.utc), 'text': '#ETHereum #ETH impulse bar 1823.12 - 1831.35$ETH Bar close 1827.33#Crypto short term volatility detection', 'polarity': 0.0, 'subjectivity': 0.3}\n",
      "{'id_str': 1638218890164699136, 'created_at': datetime.datetime(2023, 3, 21, 16, 39, 54, tzinfo=datetime.timezone.utc), 'text': 'Crypto News: These 3 Cointelegraph Markets Pro alerts generated a cumulative profit of over 100% ;  ----- #BTC #Bitcoin #ETH #Cryptocurrency #cryptoupdate #Crash #Bullish #Bearish #Ethereum #Binance #BNB', 'polarity': 0.0, 'subjectivity': 0.0}\n",
      "{'id_str': 1638219009316335617, 'created_at': datetime.datetime(2023, 3, 21, 16, 40, 23, tzinfo=datetime.timezone.utc), 'text': 'FCA confiscates ATMs in the UK Read More-  #crypto #cryptonews #cryptolatest #cryptoupdates #bitcoinnews #btc #eth #sol #xrp #bnb', 'polarity': 0.5, 'subjectivity': 0.5}\n",
      "{'id_str': 1638219020133597184, 'created_at': datetime.datetime(2023, 3, 21, 16, 40, 25, tzinfo=datetime.timezone.utc), 'text': 'The #Bitcoin\\xa0 Bear Market already ended! The #Bitcoin\\xa0 Bull Market Officially Begins WAIT FOR #ETH #SHIB #AltCoins TO FOLLOW , PATIENCE IS THE KEY$SNAP $HOOD $CORZ $BKKT $AMC $NIO #Bitcoin\\xa0\\xa0#BTC\\xa0\\xa0#SHIB', 'polarity': 0.0, 'subjectivity': 0.0}\n",
      "{'id_str': 1638219385490776073, 'created_at': datetime.datetime(2023, 3, 21, 16, 41, 52, tzinfo=datetime.timezone.utc), 'text': 'New #tehbag Alert! sent 154,560.000000000029103830 tehBag to in transaction   #eth #bsc #altcoins', 'polarity': 0.17045454545454544, 'subjectivity': 0.45454545454545453}\n",
      "{'id_str': 1638219426066472960, 'created_at': datetime.datetime(2023, 3, 21, 16, 42, 2, tzinfo=datetime.timezone.utc), 'text': '#ETHereum #ETH impulse bar 1813.08 - 1827.76$ETH Bar close 1820.49#Crypto short term volatility detection', 'polarity': 0.0, 'subjectivity': 0.3}\n",
      "{'id_str': 1638219464939384832, 'created_at': datetime.datetime(2023, 3, 21, 16, 42, 11, tzinfo=datetime.timezone.utc), 'text': 'Governor Ron DeSantis Wants to Outlaw CBDCs in Florida #crypto #bitcoin #cryptocurrency #btc #ethereum #blockchain #eth #trading #altcoin #binance #cryptonews', 'polarity': 0.2, 'subjectivity': 0.1}\n",
      "{'id_str': 1638219528604733440, 'created_at': datetime.datetime(2023, 3, 21, 16, 42, 26, tzinfo=datetime.timezone.utc), 'text': 'Why is Bitcoin rising amid collapsing banks? Watch The Market Report #crypto #blockchain #btc #eth #digitalcurrency #cryptonews #coinlivespace #altcoins', 'polarity': 0.0, 'subjectivity': 0.0}\n",
      "{'id_str': 1638219562146754561, 'created_at': datetime.datetime(2023, 3, 21, 16, 42, 34, tzinfo=datetime.timezone.utc), 'text': 'Unique, modern, win-win trading strategies,developed directly by the traders of the company #btc #eth#Walton', 'polarity': 0.22499999999999998, 'subjectivity': 0.5666666666666668}\n",
      "{'id_str': 1638219632719937536, 'created_at': datetime.datetime(2023, 3, 21, 16, 42, 51, tzinfo=datetime.timezone.utc), 'text': 'XRP Ledger: More than Ripples  #eth #doge #bnb #crypto #xrp #ada #dot #bch #ltc #uni $sol #crypto #shiba #matic #sol #cryptocurrency #cryptonews10%discount on #Binance :', 'polarity': 0.5, 'subjectivity': 0.5}\n",
      "{'id_str': 1638219720506654720, 'created_at': datetime.datetime(2023, 3, 21, 16, 43, 12, tzinfo=datetime.timezone.utc), 'text': 'Dimond are foreverGold has fixed supply#LUNC is deinflatiory#CREMAT is 8th wonder#LUNATICSTOKEN #PancakeSwap #Bitcoin #ETH #SHIB #DOGE', 'polarity': 0.1, 'subjectivity': 0.2}\n",
      "{'id_str': 1638219932629446656, 'created_at': datetime.datetime(2023, 3, 21, 16, 44, 3, tzinfo=datetime.timezone.utc), 'text': 'Fast internet connection? Share it with the world securely and earn crpto at the same time -  #Honeygain #BTC #ETH #payout', 'polarity': 0.20000000000000004, 'subjectivity': 0.44166666666666665}\n",
      "{'id_str': 1638220228847861761, 'created_at': datetime.datetime(2023, 3, 21, 16, 45, 13, tzinfo=datetime.timezone.utc), 'text': 'Bridge hub just launched this project is looking insane could do 10-1000x from here  #ETH#CryptoTwitter #ERC20 #100', 'polarity': -1.0, 'subjectivity': 1.0}\n",
      "{'id_str': 1638220768239599620, 'created_at': datetime.datetime(2023, 3, 21, 16, 47, 22, tzinfo=datetime.timezone.utc), 'text': 'Latest price updates for #ETH &amp; #BTC:#Bitcoin : $28553#Ethereum : $1823.47', 'polarity': 0.5, 'subjectivity': 0.9}\n"
     ]
    },
    {
     "ename": "KeyboardInterrupt",
     "evalue": "",
     "output_type": "error",
     "traceback": [
      "\u001b[1;31m---------------------------------------------------------------------------\u001b[0m",
      "\u001b[1;31mKeyboardInterrupt\u001b[0m                         Traceback (most recent call last)",
      "Cell \u001b[1;32mIn[5], line 11\u001b[0m\n\u001b[0;32m      9\u001b[0m stream\u001b[39m.\u001b[39madd_rules(tweepy\u001b[39m.\u001b[39mStreamRule(\u001b[39m'\u001b[39m\u001b[39m#ETH -is:retweet -is:quote -is:reply lang:en -has:media -faucet -bot -bots -nfts -nft -#nfts -#nft -\u001b[39m\u001b[39m\"\u001b[39m\u001b[39mmy TL\u001b[39m\u001b[39m\"\u001b[39m\u001b[39m -\u001b[39m\u001b[39m\"\u001b[39m\u001b[39mPublic Sale\u001b[39m\u001b[39m\"\u001b[39m\u001b[39m -\u001b[39m\u001b[39m\"\u001b[39m\u001b[39mPrice Update:\u001b[39m\u001b[39m\"\u001b[39m\u001b[39m -giveaway -gwei -\u001b[39m\u001b[39m\"\u001b[39m\u001b[39mpurchased for\u001b[39m\u001b[39m\"\u001b[39m\u001b[39m -\u001b[39m\u001b[39m\"\u001b[39m\u001b[39mtransferred from\u001b[39m\u001b[39m\"\u001b[39m\u001b[39m -airdrop -claim -$ARB -address -\u001b[39m\u001b[39m\"\u001b[39m\u001b[39mcheck out\u001b[39m\u001b[39m\"\u001b[39m\u001b[39m -\u001b[39m\u001b[39m\"\u001b[39m\u001b[39mearn over\u001b[39m\u001b[39m\"\u001b[39m\u001b[39m -#sportsbet -\u001b[39m\u001b[39m\"\u001b[39m\u001b[39mMarket Updates\u001b[39m\u001b[39m\"\u001b[39m\u001b[39m -\u001b[39m\u001b[39m\"\u001b[39m\u001b[39mAlpha Trade\u001b[39m\u001b[39m\"\u001b[39m\u001b[39m -#USDC -\u001b[39m\u001b[39m\"\u001b[39m\u001b[39mlive:\u001b[39m\u001b[39m\"\u001b[39m\u001b[39m -signal -\u001b[39m\u001b[39m\"\u001b[39m\u001b[39mpercent in the last\u001b[39m\u001b[39m\"\u001b[39m\u001b[39m -#alert -Arbitrum -\u001b[39m\u001b[39m\"\u001b[39m\u001b[39mpay your bills\u001b[39m\u001b[39m\"\u001b[39m\u001b[39m -link -#whale -\u001b[39m\u001b[39m\"\u001b[39m\u001b[39mSold at\u001b[39m\u001b[39m\"\u001b[39m\u001b[39m -#ENS -Shakepay\u001b[39m\u001b[39m'\u001b[39m))\n\u001b[0;32m     10\u001b[0m \u001b[39m#START STREAM\u001b[39;00m\n\u001b[1;32m---> 11\u001b[0m stream\u001b[39m.\u001b[39;49mfilter(expansions\u001b[39m=\u001b[39;49m[\u001b[39m\"\u001b[39;49m\u001b[39mauthor_id\u001b[39;49m\u001b[39m\"\u001b[39;49m,],tweet_fields\u001b[39m=\u001b[39;49m[\u001b[39m\"\u001b[39;49m\u001b[39mcreated_at\u001b[39;49m\u001b[39m\"\u001b[39;49m,\u001b[39m\"\u001b[39;49m\u001b[39mreferenced_tweets\u001b[39;49m\u001b[39m\"\u001b[39;49m,\u001b[39m\"\u001b[39;49m\u001b[39mlang\u001b[39;49m\u001b[39m\"\u001b[39;49m,\u001b[39m\"\u001b[39;49m\u001b[39mattachments\u001b[39;49m\u001b[39m\"\u001b[39;49m]) \n",
      "File \u001b[1;32mc:\\Users\\VladD\\AppData\\Local\\Programs\\Python\\Python311\\Lib\\site-packages\\tweepy\\streaming.py:710\u001b[0m, in \u001b[0;36mStreamingClient.filter\u001b[1;34m(self, threaded, **params)\u001b[0m\n\u001b[0;32m    708\u001b[0m     \u001b[39mreturn\u001b[39;00m \u001b[39mself\u001b[39m\u001b[39m.\u001b[39m_threaded_connect(method, endpoint, params\u001b[39m=\u001b[39mparams)\n\u001b[0;32m    709\u001b[0m \u001b[39melse\u001b[39;00m:\n\u001b[1;32m--> 710\u001b[0m     \u001b[39mself\u001b[39;49m\u001b[39m.\u001b[39;49m_connect(method, endpoint, params\u001b[39m=\u001b[39;49mparams)\n",
      "File \u001b[1;32mc:\\Users\\VladD\\AppData\\Local\\Programs\\Python\\Python311\\Lib\\site-packages\\tweepy\\streaming.py:530\u001b[0m, in \u001b[0;36mStreamingClient._connect\u001b[1;34m(self, method, endpoint, **kwargs)\u001b[0m\n\u001b[0;32m    528\u001b[0m \u001b[39mself\u001b[39m\u001b[39m.\u001b[39msession\u001b[39m.\u001b[39mheaders[\u001b[39m\"\u001b[39m\u001b[39mAuthorization\u001b[39m\u001b[39m\"\u001b[39m] \u001b[39m=\u001b[39m \u001b[39mf\u001b[39m\u001b[39m\"\u001b[39m\u001b[39mBearer \u001b[39m\u001b[39m{\u001b[39;00m\u001b[39mself\u001b[39m\u001b[39m.\u001b[39mbearer_token\u001b[39m}\u001b[39;00m\u001b[39m\"\u001b[39m\n\u001b[0;32m    529\u001b[0m url \u001b[39m=\u001b[39m \u001b[39mf\u001b[39m\u001b[39m\"\u001b[39m\u001b[39mhttps://api.twitter.com/2/tweets/\u001b[39m\u001b[39m{\u001b[39;00mendpoint\u001b[39m}\u001b[39;00m\u001b[39m/stream\u001b[39m\u001b[39m\"\u001b[39m\n\u001b[1;32m--> 530\u001b[0m \u001b[39msuper\u001b[39;49m()\u001b[39m.\u001b[39;49m_connect(method, url, \u001b[39m*\u001b[39;49m\u001b[39m*\u001b[39;49mkwargs)\n",
      "File \u001b[1;32mc:\\Users\\VladD\\AppData\\Local\\Programs\\Python\\Python311\\Lib\\site-packages\\tweepy\\streaming.py:90\u001b[0m, in \u001b[0;36mBaseStream._connect\u001b[1;34m(self, method, url, auth, params, headers, body, timeout)\u001b[0m\n\u001b[0;32m     87\u001b[0m \u001b[39mif\u001b[39;00m \u001b[39mnot\u001b[39;00m \u001b[39mself\u001b[39m\u001b[39m.\u001b[39mrunning:\n\u001b[0;32m     88\u001b[0m     \u001b[39mbreak\u001b[39;00m\n\u001b[1;32m---> 90\u001b[0m \u001b[39mfor\u001b[39;00m line \u001b[39min\u001b[39;00m resp\u001b[39m.\u001b[39miter_lines(\n\u001b[0;32m     91\u001b[0m     chunk_size\u001b[39m=\u001b[39m\u001b[39mself\u001b[39m\u001b[39m.\u001b[39mchunk_size\n\u001b[0;32m     92\u001b[0m ):\n\u001b[0;32m     93\u001b[0m     \u001b[39mif\u001b[39;00m line:\n\u001b[0;32m     94\u001b[0m         \u001b[39mself\u001b[39m\u001b[39m.\u001b[39mon_data(line)\n",
      "File \u001b[1;32mc:\\Users\\VladD\\AppData\\Local\\Programs\\Python\\Python311\\Lib\\site-packages\\requests\\models.py:865\u001b[0m, in \u001b[0;36mResponse.iter_lines\u001b[1;34m(self, chunk_size, decode_unicode, delimiter)\u001b[0m\n\u001b[0;32m    856\u001b[0m \u001b[39m\u001b[39m\u001b[39m\"\"\"Iterates over the response data, one line at a time.  When\u001b[39;00m\n\u001b[0;32m    857\u001b[0m \u001b[39mstream=True is set on the request, this avoids reading the\u001b[39;00m\n\u001b[0;32m    858\u001b[0m \u001b[39mcontent at once into memory for large responses.\u001b[39;00m\n\u001b[0;32m    859\u001b[0m \n\u001b[0;32m    860\u001b[0m \u001b[39m.. note:: This method is not reentrant safe.\u001b[39;00m\n\u001b[0;32m    861\u001b[0m \u001b[39m\"\"\"\u001b[39;00m\n\u001b[0;32m    863\u001b[0m pending \u001b[39m=\u001b[39m \u001b[39mNone\u001b[39;00m\n\u001b[1;32m--> 865\u001b[0m \u001b[39mfor\u001b[39;00m chunk \u001b[39min\u001b[39;00m \u001b[39mself\u001b[39m\u001b[39m.\u001b[39miter_content(\n\u001b[0;32m    866\u001b[0m     chunk_size\u001b[39m=\u001b[39mchunk_size, decode_unicode\u001b[39m=\u001b[39mdecode_unicode\n\u001b[0;32m    867\u001b[0m ):\n\u001b[0;32m    869\u001b[0m     \u001b[39mif\u001b[39;00m pending \u001b[39mis\u001b[39;00m \u001b[39mnot\u001b[39;00m \u001b[39mNone\u001b[39;00m:\n\u001b[0;32m    870\u001b[0m         chunk \u001b[39m=\u001b[39m pending \u001b[39m+\u001b[39m chunk\n",
      "File \u001b[1;32mc:\\Users\\VladD\\AppData\\Local\\Programs\\Python\\Python311\\Lib\\site-packages\\requests\\models.py:816\u001b[0m, in \u001b[0;36mResponse.iter_content.<locals>.generate\u001b[1;34m()\u001b[0m\n\u001b[0;32m    814\u001b[0m \u001b[39mif\u001b[39;00m \u001b[39mhasattr\u001b[39m(\u001b[39mself\u001b[39m\u001b[39m.\u001b[39mraw, \u001b[39m\"\u001b[39m\u001b[39mstream\u001b[39m\u001b[39m\"\u001b[39m):\n\u001b[0;32m    815\u001b[0m     \u001b[39mtry\u001b[39;00m:\n\u001b[1;32m--> 816\u001b[0m         \u001b[39myield from\u001b[39;00m \u001b[39mself\u001b[39m\u001b[39m.\u001b[39mraw\u001b[39m.\u001b[39mstream(chunk_size, decode_content\u001b[39m=\u001b[39m\u001b[39mTrue\u001b[39;00m)\n\u001b[0;32m    817\u001b[0m     \u001b[39mexcept\u001b[39;00m ProtocolError \u001b[39mas\u001b[39;00m e:\n\u001b[0;32m    818\u001b[0m         \u001b[39mraise\u001b[39;00m ChunkedEncodingError(e)\n",
      "File \u001b[1;32mc:\\Users\\VladD\\AppData\\Local\\Programs\\Python\\Python311\\Lib\\site-packages\\urllib3\\response.py:624\u001b[0m, in \u001b[0;36mHTTPResponse.stream\u001b[1;34m(self, amt, decode_content)\u001b[0m\n\u001b[0;32m    608\u001b[0m \u001b[39m\u001b[39m\u001b[39m\"\"\"\u001b[39;00m\n\u001b[0;32m    609\u001b[0m \u001b[39mA generator wrapper for the read() method. A call will block until\u001b[39;00m\n\u001b[0;32m    610\u001b[0m \u001b[39m``amt`` bytes have been read from the connection or until the\u001b[39;00m\n\u001b[1;32m   (...)\u001b[0m\n\u001b[0;32m    621\u001b[0m \u001b[39m    'content-encoding' header.\u001b[39;00m\n\u001b[0;32m    622\u001b[0m \u001b[39m\"\"\"\u001b[39;00m\n\u001b[0;32m    623\u001b[0m \u001b[39mif\u001b[39;00m \u001b[39mself\u001b[39m\u001b[39m.\u001b[39mchunked \u001b[39mand\u001b[39;00m \u001b[39mself\u001b[39m\u001b[39m.\u001b[39msupports_chunked_reads():\n\u001b[1;32m--> 624\u001b[0m     \u001b[39mfor\u001b[39;00m line \u001b[39min\u001b[39;00m \u001b[39mself\u001b[39m\u001b[39m.\u001b[39mread_chunked(amt, decode_content\u001b[39m=\u001b[39mdecode_content):\n\u001b[0;32m    625\u001b[0m         \u001b[39myield\u001b[39;00m line\n\u001b[0;32m    626\u001b[0m \u001b[39melse\u001b[39;00m:\n",
      "File \u001b[1;32mc:\\Users\\VladD\\AppData\\Local\\Programs\\Python\\Python311\\Lib\\site-packages\\urllib3\\response.py:828\u001b[0m, in \u001b[0;36mHTTPResponse.read_chunked\u001b[1;34m(self, amt, decode_content)\u001b[0m\n\u001b[0;32m    825\u001b[0m     \u001b[39mreturn\u001b[39;00m\n\u001b[0;32m    827\u001b[0m \u001b[39mwhile\u001b[39;00m \u001b[39mTrue\u001b[39;00m:\n\u001b[1;32m--> 828\u001b[0m     \u001b[39mself\u001b[39;49m\u001b[39m.\u001b[39;49m_update_chunk_length()\n\u001b[0;32m    829\u001b[0m     \u001b[39mif\u001b[39;00m \u001b[39mself\u001b[39m\u001b[39m.\u001b[39mchunk_left \u001b[39m==\u001b[39m \u001b[39m0\u001b[39m:\n\u001b[0;32m    830\u001b[0m         \u001b[39mbreak\u001b[39;00m\n",
      "File \u001b[1;32mc:\\Users\\VladD\\AppData\\Local\\Programs\\Python\\Python311\\Lib\\site-packages\\urllib3\\response.py:758\u001b[0m, in \u001b[0;36mHTTPResponse._update_chunk_length\u001b[1;34m(self)\u001b[0m\n\u001b[0;32m    756\u001b[0m \u001b[39mif\u001b[39;00m \u001b[39mself\u001b[39m\u001b[39m.\u001b[39mchunk_left \u001b[39mis\u001b[39;00m \u001b[39mnot\u001b[39;00m \u001b[39mNone\u001b[39;00m:\n\u001b[0;32m    757\u001b[0m     \u001b[39mreturn\u001b[39;00m\n\u001b[1;32m--> 758\u001b[0m line \u001b[39m=\u001b[39m \u001b[39mself\u001b[39m\u001b[39m.\u001b[39m_fp\u001b[39m.\u001b[39mfp\u001b[39m.\u001b[39mreadline()\n\u001b[0;32m    759\u001b[0m line \u001b[39m=\u001b[39m line\u001b[39m.\u001b[39msplit(\u001b[39mb\u001b[39m\u001b[39m\"\u001b[39m\u001b[39m;\u001b[39m\u001b[39m\"\u001b[39m, \u001b[39m1\u001b[39m)[\u001b[39m0\u001b[39m]\n\u001b[0;32m    760\u001b[0m \u001b[39mtry\u001b[39;00m:\n",
      "File \u001b[1;32mc:\\Users\\VladD\\AppData\\Local\\Programs\\Python\\Python311\\Lib\\socket.py:706\u001b[0m, in \u001b[0;36mSocketIO.readinto\u001b[1;34m(self, b)\u001b[0m\n\u001b[0;32m    704\u001b[0m \u001b[39mwhile\u001b[39;00m \u001b[39mTrue\u001b[39;00m:\n\u001b[0;32m    705\u001b[0m     \u001b[39mtry\u001b[39;00m:\n\u001b[1;32m--> 706\u001b[0m         \u001b[39mreturn\u001b[39;00m \u001b[39mself\u001b[39;49m\u001b[39m.\u001b[39;49m_sock\u001b[39m.\u001b[39;49mrecv_into(b)\n\u001b[0;32m    707\u001b[0m     \u001b[39mexcept\u001b[39;00m timeout:\n\u001b[0;32m    708\u001b[0m         \u001b[39mself\u001b[39m\u001b[39m.\u001b[39m_timeout_occurred \u001b[39m=\u001b[39m \u001b[39mTrue\u001b[39;00m\n",
      "File \u001b[1;32mc:\\Users\\VladD\\AppData\\Local\\Programs\\Python\\Python311\\Lib\\ssl.py:1278\u001b[0m, in \u001b[0;36mSSLSocket.recv_into\u001b[1;34m(self, buffer, nbytes, flags)\u001b[0m\n\u001b[0;32m   1274\u001b[0m     \u001b[39mif\u001b[39;00m flags \u001b[39m!=\u001b[39m \u001b[39m0\u001b[39m:\n\u001b[0;32m   1275\u001b[0m         \u001b[39mraise\u001b[39;00m \u001b[39mValueError\u001b[39;00m(\n\u001b[0;32m   1276\u001b[0m           \u001b[39m\"\u001b[39m\u001b[39mnon-zero flags not allowed in calls to recv_into() on \u001b[39m\u001b[39m%s\u001b[39;00m\u001b[39m\"\u001b[39m \u001b[39m%\u001b[39m\n\u001b[0;32m   1277\u001b[0m           \u001b[39mself\u001b[39m\u001b[39m.\u001b[39m\u001b[39m__class__\u001b[39m)\n\u001b[1;32m-> 1278\u001b[0m     \u001b[39mreturn\u001b[39;00m \u001b[39mself\u001b[39;49m\u001b[39m.\u001b[39;49mread(nbytes, buffer)\n\u001b[0;32m   1279\u001b[0m \u001b[39melse\u001b[39;00m:\n\u001b[0;32m   1280\u001b[0m     \u001b[39mreturn\u001b[39;00m \u001b[39msuper\u001b[39m()\u001b[39m.\u001b[39mrecv_into(buffer, nbytes, flags)\n",
      "File \u001b[1;32mc:\\Users\\VladD\\AppData\\Local\\Programs\\Python\\Python311\\Lib\\ssl.py:1134\u001b[0m, in \u001b[0;36mSSLSocket.read\u001b[1;34m(self, len, buffer)\u001b[0m\n\u001b[0;32m   1132\u001b[0m \u001b[39mtry\u001b[39;00m:\n\u001b[0;32m   1133\u001b[0m     \u001b[39mif\u001b[39;00m buffer \u001b[39mis\u001b[39;00m \u001b[39mnot\u001b[39;00m \u001b[39mNone\u001b[39;00m:\n\u001b[1;32m-> 1134\u001b[0m         \u001b[39mreturn\u001b[39;00m \u001b[39mself\u001b[39;49m\u001b[39m.\u001b[39;49m_sslobj\u001b[39m.\u001b[39;49mread(\u001b[39mlen\u001b[39;49m, buffer)\n\u001b[0;32m   1135\u001b[0m     \u001b[39melse\u001b[39;00m:\n\u001b[0;32m   1136\u001b[0m         \u001b[39mreturn\u001b[39;00m \u001b[39mself\u001b[39m\u001b[39m.\u001b[39m_sslobj\u001b[39m.\u001b[39mread(\u001b[39mlen\u001b[39m)\n",
      "\u001b[1;31mKeyboardInterrupt\u001b[0m: "
     ]
    }
   ],
   "source": [
    "stream = MyStream(bearer_token=credentials.BEARER_TOKEN,wait_on_rate_limit=True)\n",
    "\n",
    "# CLEARS RULESET BEFORE STREAMING DATA\n",
    "for rule in stream.get_rules().data:\n",
    "        stream.delete_rules(rule.id)\n",
    "\n",
    "# ADDING RULES TO RULESET TO STREAM SPECIFIC DATA - ONLY ORIGINAL ENGLISH TWEETS WITH NO ATACHMENTS AND FILTERED QUERY ARE STORED.\n",
    "\n",
    "stream.add_rules(tweepy.StreamRule('#ETH -is:retweet -is:quote -is:reply lang:en -has:media -faucet -bot -bots -nfts -nft -#nfts -#nft -\"my TL\" -\"Public Sale\" -\"Price Update:\" -giveaway -gwei -\"purchased for\" -\"transferred from\" -airdrop -claim -$ARB -address -\"check out\" -\"earn over\" -#sportsbet -\"Market Updates\" -\"Alpha Trade\" -#USDC -\"live:\" -signal -\"percent in the last\" -#alert -Arbitrum -\"pay your bills\" -link -#whale -\"Sold at\" -#ENS -Shakepay'))\n",
    "#START STREAM\n",
    "stream.filter(expansions=[\"author_id\",],tweet_fields=[\"created_at\",\"referenced_tweets\",\"lang\",\"attachments\"]) \n",
    "\n",
    "\n",
    "\n"
   ]
  },
  {
   "cell_type": "code",
   "execution_count": 6,
   "metadata": {},
   "outputs": [
    {
     "name": "stdout",
     "output_type": "stream",
     "text": [
      "Response(data=[StreamRule(value='#ETH -is:retweet -is:quote -is:reply lang:en -has:media -faucet -bot -bots -nfts -nft -#nfts -#nft -\"my TL\" -\"Public Sale\" -\"Price Update:\" -giveaway -gwei -\"purchased for\" -\"transferred from\" -airdrop -claim -$ARB -address -\"check out\" -\"earn over\"', tag=None, id='1638013632477818881')], includes={}, errors=[], meta={'sent': '2023-03-21T03:04:42.910Z', 'result_count': 1})\n"
     ]
    }
   ],
   "source": [
    "\n",
    "stream.get_rules()\n",
    "print(stream.get_rules())"
   ]
  }
 ],
 "metadata": {
  "kernelspec": {
   "display_name": "venv",
   "language": "python",
   "name": "python3"
  },
  "language_info": {
   "codemirror_mode": {
    "name": "ipython",
    "version": 3
   },
   "file_extension": ".py",
   "mimetype": "text/x-python",
   "name": "python",
   "nbconvert_exporter": "python",
   "pygments_lexer": "ipython3",
   "version": "3.11.2"
  },
  "orig_nbformat": 4
 },
 "nbformat": 4,
 "nbformat_minor": 2
}
