{
 "cells": [
  {
   "attachments": {},
   "cell_type": "markdown",
   "metadata": {},
   "source": [
    "THIS IS THE MAIN FUNCTION INCLUDES: EXTRACTING STREAMING DATA FROM TWITTER, PRE-PROCESSING AND STORES INTO MYSQL."
   ]
  },
  {
   "cell_type": "code",
   "execution_count": 13,
   "metadata": {},
   "outputs": [],
   "source": [
    "#SETTING UP\n",
    "\n",
    "import credentials              #IMPORTING CREDENTIALS.PY - IMPORTS API/ACCESS_TOKEN KEYS\n",
    "import settings                 #IMPORT SETTINGS\n",
    "import re\n",
    "import tweepy\n",
    "import pandas as pd\n",
    "from textblob import TextBlob\n",
    "import mysql.connector\n",
    "import emoji"
   ]
  },
  {
   "cell_type": "code",
   "execution_count": 14,
   "metadata": {},
   "outputs": [
    {
     "name": "stdout",
     "output_type": "stream",
     "text": [
      "Succesfull Authentication\n"
     ]
    }
   ],
   "source": [
    "#AUTHENTICATING TWITTER API\n",
    "client=tweepy.Client(credentials.BEARER_TOKEN,credentials.API_KEY,credentials.API_SECRET_KEY,credentials.ACCESS_TOKEN,credentials.ACCESS_TOKEN_SECRET)\n",
    "auth=tweepy.OAuth1UserHandler(credentials.API_KEY,credentials.API_SECRET_KEY,credentials.ACCESS_TOKEN,credentials.ACCESS_TOKEN_SECRET)\n",
    "api=tweepy.API(auth,wait_on_rate_limit=True)\n",
    "\n",
    "#VERIFIES CREDENTIONS FOR AUTHENTICATION\n",
    "try:\n",
    "    api.verify_credentials()\n",
    "    print('Succesfull Authentication')\n",
    "except:\n",
    "    print('Failed Authentication')"
   ]
  },
  {
   "cell_type": "code",
   "execution_count": 15,
   "metadata": {},
   "outputs": [],
   "source": [
    "# STORE DATA IN MYSQL, CONNECTING TO SQLDATABASE\n",
    "mydb = mysql.connector.connect(\n",
    "    host=\"localhost\",\n",
    "    user=\"root\",\n",
    "    passwd=credentials.MYSQLPASSWORD,\n",
    "    database=\"twitterdb\",\n",
    "    auth_plugin='mysql_native_password',\n",
    "    charset = 'utf8'\n",
    ")\n",
    "\n",
    "if mydb.is_connected():\n",
    "#CHECK TO SEE IF TABLE EXISTS. IF NOT, CREATES ONE.\n",
    "    mycursor = mydb.cursor()\n",
    "    mycursor.execute(\"\"\"\n",
    "        SELECT COUNT(*)\n",
    "        FROM information_schema.tables\n",
    "        WHERE table_name = '{0}'\n",
    "        \"\"\".format(settings.TABLE_NAME))\n",
    "    if mycursor.fetchone()[0] != 1:\n",
    "        mycursor.execute(\"CREATE TABLE {} ({})\" \\\n",
    "            .format(settings.TABLE_NAME, settings.TABLE_ATTRIBUTES))\n",
    "        mydb.commit()\n",
    "    mycursor.close()"
   ]
  },
  {
   "cell_type": "code",
   "execution_count": 80,
   "metadata": {},
   "outputs": [],
   "source": [
    "#FUNCTIONS\n",
    "\n",
    "#PRE-PROCESSING\n",
    "def clean_tweet(tweet):\n",
    "     #REMOVE \"\\n\" IN TWEETS, \\n SEPERATES LINES VIA NEW LINE CHARACTER, REMOVES CLUTER\n",
    "     tweet=tweet.replace('\\n', ' ')\n",
    "     #REMOVE LINKS\n",
    "     tweet=re.sub(r'https\\S+','',tweet)\n",
    "     tweet=re.sub(r'www\\.\\S+', '', tweet)\n",
    "     #REMOVE MENTIONS\n",
    "     tweet=re.sub(r'@\\S+\\s?', '', tweet)\n",
    "     #REMOVE EMOJIS\n",
    "     tweet=''.join(emoji.replace_emoji(tweet,replace=''))\n",
    "     \n",
    "     #TWITTER NEW TEXT LIMITS FOR TWITTER BLUE USERS INCLUDES TWEET LENGTH OF UPTO 4,000 CHARACTERS. WILL STORE TWEETS UPTO 255 CHRACTERS.\n",
    "     return tweet.strip()[:255]\n",
    "\n",
    "\n",
    "#SQL PUSH TO TABLES, FUNCTION INSERTS DATA INTO TABLE USING DATA IN THE 'STRUCT' DICTIONARY\n",
    "def push_results_to_tables(table_name, struct, conn):\n",
    "    cursor = conn.cursor()\n",
    "    insert_SQL = f\"\"\"INSERT INTO {table_name}\n",
    "                ({', '.join(map(str, struct))})\n",
    "                VALUES('{\"','\".join(map(str,struct.values()))}');\n",
    "                \"\"\"\n",
    "    cursor.execute(insert_SQL)\n",
    "    cursor.commit()"
   ]
  },
  {
   "cell_type": "code",
   "execution_count": 66,
   "metadata": {},
   "outputs": [],
   "source": [
    "class MyStream(tweepy.StreamingClient):\n",
    "\n",
    "    # DISPLAYS \"CONNECTED\" ONCE STREAM IS CONNECTED\n",
    "    def on_connect(self):        \n",
    "        print(\"Connected\") \n",
    "\n",
    "    # AVOID RETWEETED TWEETS, NON-ENGLISH TWEETS AND TWEETS WITH ATTACHMENTS, ONLY ORIGINAL ENGLISH TWEETS WITH NO ATACHMENTS ARE STORED \n",
    "\n",
    "    def on_tweet(self,tweet):\n",
    "        if tweet.referenced_tweets is None:\n",
    "            return True\n",
    "       \n",
    "        if tweet.lang !=\"en\":\n",
    "            return True\n",
    "        \n",
    "        if tweet.attachments is None:\n",
    "            return True\n",
    "        \n",
    "    #EXTRACTING ATTRIBUTES FROM TWEETS\n",
    "        id_str = tweet.id\n",
    "        created_at = tweet.created_at\n",
    "        text = clean_tweet(tweet.text) # PRE-PROCESSING\n",
    "        user_id = tweet.author_id\n",
    "        ref_id=tweet.referenced_tweets\n",
    "        lang=tweet.lang\n",
    "        sentiment = TextBlob(text).sentiment\n",
    "        polarity = sentiment.polarity\n",
    "        subjectivity = sentiment.subjectivity\n",
    "        user=client.get_user(id=user_id)\n",
    "        struct={'id_str':id_str,\n",
    "                'created_at':tweet.created_at,\n",
    "                'text':text,\n",
    "                'polarity':polarity,\n",
    "                'subjectivity':subjectivity}\n",
    "        print(struct)\n",
    "\n",
    "        if mydb.is_connected():\n",
    "            mycursor = mydb.cursor()\n",
    "            sql = \"INSERT INTO {} (id_str, created_at, text, polarity, subjectivity) VALUES (%s, %s, %s, %s, %s)\".format(settings.TABLE_NAME)\n",
    "            val = (id_str, created_at, text, polarity, subjectivity, )\n",
    "            mycursor.execute(sql, val)\n",
    "            mydb.commit()\n",
    "            mycursor.close()\n",
    "\n",
    "## TWITTER HAS RATE LIMITS, STOP DATA SCARPING AFTER THRESHOLD.\n",
    "    def on_error(self,status_code):\n",
    "        if status_code == 420:\n",
    "            return False\n",
    "        print(status_code)\n",
    "         "
   ]
  },
  {
   "cell_type": "code",
   "execution_count": null,
   "metadata": {},
   "outputs": [],
   "source": [
    "stream = MyStream(bearer_token=credentials.BEARER_TOKEN)\n",
    "\n",
    "# CLEARS RULESET BEFORE STREAMING DATA\n",
    "for rule in stream.get_rules().data:\n",
    "        stream.delete_rules(rule.id)\n",
    "# ADDING RULES TO RULESET TO STREAM SPECIFIC DATA\n",
    "# stream.add_rules(tweepy.StreamRule(\"($ETH OR #ETH OR ETH OR Ethereum) -is:retweet -#giveaway -#nfts -nft -#nft -airdrop -#airdrop -presale -#presale -whitelist -#whitelist -wallets -gm -mfer -#whale\"))\n",
    "stream.add_rules(tweepy.StreamRule(\"($ETH OR #ETH OR ETH OR Ethereum) -is:retweet \"))\n",
    "stream.add_rules(tweepy.StreamRule(\"-giveaway -nfts -nft -#nft -#nfts -airdrop -#whale -presale -airdrop -whitelist -#whitelist\"))\n",
    "\n",
    "#START STREAM\n",
    "stream.filter(expansions=[\"author_id\",],tweet_fields=[\"created_at\",\"referenced_tweets\",\"lang\",\"attachments\"]) \n"
   ]
  }
 ],
 "metadata": {
  "kernelspec": {
   "display_name": "venv",
   "language": "python",
   "name": "python3"
  },
  "language_info": {
   "codemirror_mode": {
    "name": "ipython",
    "version": 3
   },
   "file_extension": ".py",
   "mimetype": "text/x-python",
   "name": "python",
   "nbconvert_exporter": "python",
   "pygments_lexer": "ipython3",
   "version": "3.10.7"
  },
  "orig_nbformat": 4
 },
 "nbformat": 4,
 "nbformat_minor": 2
}
