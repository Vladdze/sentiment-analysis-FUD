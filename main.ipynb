{
 "cells": [
  {
   "attachments": {},
   "cell_type": "markdown",
   "metadata": {},
   "source": [
    "THIS IS THE MAIN FUNCTION INCLUDES: EXTRACTING STREAMING DATA FROM TWITTER, PRE-PROCESSING AND STORES INTO MYSQL."
   ]
  },
  {
   "cell_type": "code",
   "execution_count": 6,
   "metadata": {},
   "outputs": [],
   "source": [
    "#SETTING UP\n",
    "import credentials              #IMPORTING CREDENTIALS.PY - IMPORTS API/ACCESS_TOKEN KEYS\n",
    "import settings                 #IMPORT SETTINGS\n",
    "import re\n",
    "import tweepy\n",
    "import pandas as pd\n",
    "from textblob import TextBlob\n",
    "import mysql.connector\n",
    "import demoji\n",
    "from unidecode import unidecode"
   ]
  },
  {
   "cell_type": "code",
   "execution_count": 7,
   "metadata": {},
   "outputs": [],
   "source": [
    "# STORE DATA IN MYSQL, CONNECTING TO SQLDATABASE\n",
    "mydb = mysql.connector.connect(\n",
    "    host=\"localhost\",\n",
    "    user=\"root\",\n",
    "    passwd=credentials.MYSQLPASSWORD,\n",
    "    database=\"twitterdb\",\n",
    "    auth_plugin='mysql_native_password',\n",
    "    charset = 'utf8'\n",
    ")\n",
    "\n",
    "if mydb.is_connected():\n",
    "#CHECK TO SEE IF TABLE EXISTS. IF NOT, CREATES ONE.\n",
    "    mycursor = mydb.cursor()\n",
    "    mycursor.execute(\"\"\"\n",
    "        SELECT COUNT(*)\n",
    "        FROM information_schema.tables\n",
    "        WHERE table_name = '{0}'\n",
    "        \"\"\".format(settings.TABLE_NAME))\n",
    "    if mycursor.fetchone()[0] != 1:\n",
    "        mycursor.execute(\"CREATE TABLE {} ({})\".format(settings.TABLE_NAME, settings.TABLE_ATTRIBUTES))\n",
    "        mydb.commit()\n",
    "    mycursor.close()"
   ]
  },
  {
   "cell_type": "code",
   "execution_count": 8,
   "metadata": {},
   "outputs": [],
   "source": [
    "#FUNCTIONS\n",
    "\n",
    "#PRE-PROCESSING\n",
    "remove_newline=re.compile(r\"\\n\") #REMOVE \"\\n\" IN TWEETS, \\n SEPERATES LINES VIA NEW LINE CHARACTER, REMOVES CLUTER\n",
    "remove_links=re.compile(r\"https\\S+|www\\.\\S+\") #REMOVE LINKS\n",
    "remove_mentions=re.compile(r\"@\\S+\\s?\") #REMOVE MENTIONS\n",
    "remove_id=re.compile(r\"ID\\S+\\s?\") #REMOVE ID/REFERALS IN TWEETS\n",
    "remove_eth=re.compile(r\"0x\\S+\\s?|Ox\\S+\\s?\") #REMOVE ETH WALLET ADDRESSES IN TWEETS\n",
    "\n",
    "def clean_tweet(tweet):\n",
    "    post=tweet.text\n",
    "    try:\n",
    "        post=remove_newline.sub(\"\",post) \n",
    "        post=remove_links.sub(\"\",post)\n",
    "        post=remove_mentions.sub(\"\",post)\n",
    "        post=demoji.replace(post, '') #REMOVE EMOJIS\n",
    "        post=remove_id.sub(\"\",post)\n",
    "        post=remove_eth.sub(\"\",post)        \n",
    "        post = unidecode(post)  # CONVERT LATIN CHARACTERS TO ASCII EQUIVALENT\n",
    "        post = ''.join([i if ord(i) < 128 else '' for i in post])  # REMOVE NON-ASCII CHARACTERS\n",
    "        return post.strip()[:255] #TWITTER NEW TEXT LIMITS FOR TWITTER BLUE USERS INCLUDES TWEET LENGTH OF UPTO 4,000 CHARACTERS. WILL STORE TWEETS UPTO 255 CHRACTERS.\n",
    "    except AttributeError:\n",
    "        print(\"Error while cleaning tweet:\", tweet)\n",
    "    return \"\"\n",
    "\n",
    "    \n",
    "#SQL PUSH TO TABLES, FUNCTION INSERTS DATA INTO TABLE USING DATA IN THE 'STRUCT' DICTIONARY\n",
    "def push_results_to_tables(table_name, struct, conn):\n",
    "    cursor = conn.cursor()\n",
    "    insert_SQL = f\"\"\"INSERT INTO {table_name}\n",
    "                ({', '.join(map(str, struct))})\n",
    "                VALUES('{\"','\".join(map(str,struct.values()))}');\n",
    "                \"\"\"\n",
    "    cursor.execute(insert_SQL)\n",
    "    cursor.commit()"
   ]
  },
  {
   "cell_type": "code",
   "execution_count": 9,
   "metadata": {},
   "outputs": [],
   "source": [
    "class MyStream(tweepy.StreamingClient):\n",
    "\n",
    "    # DISPLAYS \"CONNECTED\" ONCE STREAM IS CONNECTED\n",
    "    def on_connect(self):        \n",
    "        print(\"Connected\") \n",
    "\n",
    "    def on_tweet(self,tweet):   \n",
    "        \n",
    "    #EXTRACTING ATTRIBUTES FROM TWEETS\n",
    "        id_str = tweet.id\n",
    "        created_at = tweet.created_at\n",
    "        text = clean_tweet(tweet) # PRE-PROCESSING\n",
    "        user_id = tweet.author_id\n",
    "        ref_id=tweet.referenced_tweets\n",
    "        lang=tweet.lang\n",
    "        sentiment = TextBlob(text).sentiment\n",
    "        polarity = sentiment.polarity\n",
    "        subjectivity = sentiment.subjectivity\n",
    "        struct={'id_str':id_str,\n",
    "                'created_at':tweet.created_at,\n",
    "                'text':text,\n",
    "                'polarity':polarity,\n",
    "                'subjectivity':subjectivity}\n",
    "        print(struct)\n",
    "\n",
    "        if mydb.is_connected():\n",
    "            mycursor = mydb.cursor()\n",
    "            sql = f\"INSERT INTO {settings.TABLE_NAME} (id_str, created_at, text, polarity, subjectivity) VALUES (%s, %s, %s, %s, %s)\"\n",
    "            val = (id_str, created_at, text, polarity, subjectivity, )\n",
    "            mycursor.execute(sql, val)\n",
    "            mydb.commit()\n",
    "            mycursor.close()\n",
    "        else:\n",
    "            print(\"Error: Database is not connected.\")\n",
    "\n",
    "## TWITTER HAS RATE LIMITS, STOP DATA SCARPING AFTER THRESHOLD.\n",
    "    def on_error(self,status_code):\n",
    "        if status_code == 420:\n",
    "            return False\n",
    "        print(status_code)\n",
    "         "
   ]
  },
  {
   "cell_type": "code",
   "execution_count": 11,
   "metadata": {},
   "outputs": [
    {
     "name": "stderr",
     "output_type": "stream",
     "text": [
      "Stream encountered HTTP error: 503\n",
      "HTTP error response text: {\"title\":\"Service Unavailable\",\"detail\":\"Service Unavailable\",\"type\":\"about:blank\",\"status\":503}\n"
     ]
    },
    {
     "name": "stdout",
     "output_type": "stream",
     "text": [
      "Connected\n",
      "{'id_str': 1642983668674166786, 'created_at': datetime.datetime(2023, 4, 3, 20, 13, 26, tzinfo=datetime.timezone.utc), 'text': '$437.28k #ETH bought at $1789.00 (USDT) on Binance Spot.#ETH $ETH #crypto #whale #alert #coinscreenerFor real-time Whale insights', 'polarity': 0.0, 'subjectivity': 0.0}\n",
      "{'id_str': 1642983669785833477, 'created_at': datetime.datetime(2023, 4, 3, 20, 13, 26, tzinfo=datetime.timezone.utc), 'text': '$402.23k #LTC bought at $91.46 (USDT) on Binance Spot.#LTC $LTC #crypto #whale #alert #coinscreenerFor real-time Whale insights', 'polarity': 0.0, 'subjectivity': 0.0}\n",
      "{'id_str': 1642983670863593475, 'created_at': datetime.datetime(2023, 4, 3, 20, 13, 26, tzinfo=datetime.timezone.utc), 'text': '$355.43k #ETH bought at $1789.00 (USDT) on Binance Spot.#ETH $ETH #crypto #whale #alert #coinscreenerFor real-time Whale insights', 'polarity': 0.0, 'subjectivity': 0.0}\n",
      "{'id_str': 1642983667755806720, 'created_at': datetime.datetime(2023, 4, 3, 20, 13, 26, tzinfo=datetime.timezone.utc), 'text': 'Check out my item listing on OpenSea!  via #NFTGiveaways #NFTCommunity #nftart #NFTartist #opensea #openseaart #art #digitalpainting #digitalart', 'polarity': 0.0, 'subjectivity': 0.0}\n",
      "{'id_str': 1642983672822243329, 'created_at': datetime.datetime(2023, 4, 3, 20, 13, 27, tzinfo=datetime.timezone.utc), 'text': '$292.41k #BTC sold at $27801.0 (USDT) on Binance Spot.#BTC $BTC #crypto #whale #alert #coinscreenerFor real-time Whale insights', 'polarity': 0.0, 'subjectivity': 0.0}\n",
      "{'id_str': 1642983683161489409, 'created_at': datetime.datetime(2023, 4, 3, 20, 13, 29, tzinfo=datetime.timezone.utc), 'text': '#Metatime #Crypto nice 1', 'polarity': 0.6, 'subjectivity': 1.0}\n",
      "{'id_str': 1642983703793270784, 'created_at': datetime.datetime(2023, 4, 3, 20, 13, 34, tzinfo=datetime.timezone.utc), 'text': 'A big chance in a billion!Price: \\\\237522.0 (2023/04/04 05:12)#ETH #ethereum', 'polarity': 0.0, 'subjectivity': 0.1}\n",
      "{'id_str': 1642983706561499137, 'created_at': datetime.datetime(2023, 4, 3, 20, 13, 35, tzinfo=datetime.timezone.utc), 'text': \"I'm learning about the basics of Bitcoin and Ethereum in Fundamentals of #CryptoHistory\", 'polarity': 0.0, 'subjectivity': 0.0}\n",
      "{'id_str': 1642983714371059714, 'created_at': datetime.datetime(2023, 4, 3, 20, 13, 37, tzinfo=datetime.timezone.utc), 'text': 'i remember #elon tweeted few weeks ago that he/Doge is no more interested in #Crypto and now he changed his mind and we see the movement #ElonMusk #DOGE #crypto', 'polarity': -0.06666666666666667, 'subjectivity': 0.3666666666666667}\n",
      "{'id_str': 1642983747275608065, 'created_at': datetime.datetime(2023, 4, 3, 20, 13, 45, tzinfo=datetime.timezone.utc), 'text': 'Spoon: The Decentralized Exchange Platform Revolutionizing Crypto-Trading #Spoon #Crypto', 'polarity': 0.0, 'subjectivity': 0.0}\n"
     ]
    },
    {
     "ename": "KeyboardInterrupt",
     "evalue": "",
     "output_type": "error",
     "traceback": [
      "\u001b[1;31m---------------------------------------------------------------------------\u001b[0m",
      "\u001b[1;31mKeyboardInterrupt\u001b[0m                         Traceback (most recent call last)",
      "Cell \u001b[1;32mIn[11], line 10\u001b[0m\n\u001b[0;32m      8\u001b[0m stream\u001b[39m.\u001b[39madd_rules(tweepy\u001b[39m.\u001b[39mStreamRule(\u001b[39m'\u001b[39m\u001b[39m(#ETH OR ethereum OR #ethereum OR #crypto) -is:retweet -is:quote -is:reply -has:media lang:en -#sportsbet -\u001b[39m\u001b[39m\"\u001b[39m\u001b[39mPrice Update\u001b[39m\u001b[39m\"\u001b[39m\u001b[39m -\u001b[39m\u001b[39m\"\u001b[39m\u001b[39mgetting some\u001b[39m\u001b[39m\"\u001b[39m\u001b[39m -signal -minted -#Giveaway -\u001b[39m\u001b[39m\"\u001b[39m\u001b[39mtransferred from\u001b[39m\u001b[39m\"\u001b[39m\u001b[39m -\u001b[39m\u001b[39m\"\u001b[39m\u001b[39mcheck out this item\u001b[39m\u001b[39m\"\u001b[39m\u001b[39m -airdrop -\u001b[39m\u001b[39m\"\u001b[39m\u001b[39mPublic Sale\u001b[39m\u001b[39m\"\u001b[39m\u001b[39m  -whitelist -\u001b[39m\u001b[39m\"\u001b[39m\u001b[39mETH Wallet\u001b[39m\u001b[39m\"\u001b[39m\u001b[39m -\u001b[39m\u001b[39m\"\u001b[39m\u001b[39mEth Address\u001b[39m\u001b[39m\"\u001b[39m\u001b[39m -link -gwei -faucet -excesscaps -bounty -token -\u001b[39m\u001b[39m\"\u001b[39m\u001b[39mICO\u001b[39m\u001b[39m\"\u001b[39m\u001b[39m -\u001b[39m\u001b[39m\"\u001b[39m\u001b[39mpresale\u001b[39m\u001b[39m\"\u001b[39m\u001b[39m -\u001b[39m\u001b[39m\"\u001b[39m\u001b[39mpump and dump\u001b[39m\u001b[39m\"\u001b[39m\u001b[39m -\u001b[39m\u001b[39m\"\u001b[39m\u001b[39mtechnical analysis\u001b[39m\u001b[39m\"\u001b[39m\u001b[39m -\u001b[39m\u001b[39m\"\u001b[39m\u001b[39mstaking rewards\u001b[39m\u001b[39m\"\u001b[39m\u001b[39m -\u001b[39m\u001b[39m\"\u001b[39m\u001b[39mstaking pool\u001b[39m\u001b[39m\"\u001b[39m\u001b[39m'\u001b[39m))\n\u001b[0;32m      9\u001b[0m \u001b[39m#START STREAM\u001b[39;00m\n\u001b[1;32m---> 10\u001b[0m stream\u001b[39m.\u001b[39;49mfilter(expansions\u001b[39m=\u001b[39;49m[\u001b[39m\"\u001b[39;49m\u001b[39mauthor_id\u001b[39;49m\u001b[39m\"\u001b[39;49m,],tweet_fields\u001b[39m=\u001b[39;49m[\u001b[39m\"\u001b[39;49m\u001b[39mcreated_at\u001b[39;49m\u001b[39m\"\u001b[39;49m,\u001b[39m\"\u001b[39;49m\u001b[39mreferenced_tweets\u001b[39;49m\u001b[39m\"\u001b[39;49m,\u001b[39m\"\u001b[39;49m\u001b[39mlang\u001b[39;49m\u001b[39m\"\u001b[39;49m,\u001b[39m\"\u001b[39;49m\u001b[39mattachments\u001b[39;49m\u001b[39m\"\u001b[39;49m]) \n",
      "File \u001b[1;32mc:\\Users\\VladD\\AppData\\Local\\Programs\\Python\\Python311\\Lib\\site-packages\\tweepy\\streaming.py:710\u001b[0m, in \u001b[0;36mStreamingClient.filter\u001b[1;34m(self, threaded, **params)\u001b[0m\n\u001b[0;32m    708\u001b[0m     \u001b[39mreturn\u001b[39;00m \u001b[39mself\u001b[39m\u001b[39m.\u001b[39m_threaded_connect(method, endpoint, params\u001b[39m=\u001b[39mparams)\n\u001b[0;32m    709\u001b[0m \u001b[39melse\u001b[39;00m:\n\u001b[1;32m--> 710\u001b[0m     \u001b[39mself\u001b[39;49m\u001b[39m.\u001b[39;49m_connect(method, endpoint, params\u001b[39m=\u001b[39;49mparams)\n",
      "File \u001b[1;32mc:\\Users\\VladD\\AppData\\Local\\Programs\\Python\\Python311\\Lib\\site-packages\\tweepy\\streaming.py:530\u001b[0m, in \u001b[0;36mStreamingClient._connect\u001b[1;34m(self, method, endpoint, **kwargs)\u001b[0m\n\u001b[0;32m    528\u001b[0m \u001b[39mself\u001b[39m\u001b[39m.\u001b[39msession\u001b[39m.\u001b[39mheaders[\u001b[39m\"\u001b[39m\u001b[39mAuthorization\u001b[39m\u001b[39m\"\u001b[39m] \u001b[39m=\u001b[39m \u001b[39mf\u001b[39m\u001b[39m\"\u001b[39m\u001b[39mBearer \u001b[39m\u001b[39m{\u001b[39;00m\u001b[39mself\u001b[39m\u001b[39m.\u001b[39mbearer_token\u001b[39m}\u001b[39;00m\u001b[39m\"\u001b[39m\n\u001b[0;32m    529\u001b[0m url \u001b[39m=\u001b[39m \u001b[39mf\u001b[39m\u001b[39m\"\u001b[39m\u001b[39mhttps://api.twitter.com/2/tweets/\u001b[39m\u001b[39m{\u001b[39;00mendpoint\u001b[39m}\u001b[39;00m\u001b[39m/stream\u001b[39m\u001b[39m\"\u001b[39m\n\u001b[1;32m--> 530\u001b[0m \u001b[39msuper\u001b[39;49m()\u001b[39m.\u001b[39;49m_connect(method, url, \u001b[39m*\u001b[39;49m\u001b[39m*\u001b[39;49mkwargs)\n",
      "File \u001b[1;32mc:\\Users\\VladD\\AppData\\Local\\Programs\\Python\\Python311\\Lib\\site-packages\\tweepy\\streaming.py:90\u001b[0m, in \u001b[0;36mBaseStream._connect\u001b[1;34m(self, method, url, auth, params, headers, body, timeout)\u001b[0m\n\u001b[0;32m     87\u001b[0m \u001b[39mif\u001b[39;00m \u001b[39mnot\u001b[39;00m \u001b[39mself\u001b[39m\u001b[39m.\u001b[39mrunning:\n\u001b[0;32m     88\u001b[0m     \u001b[39mbreak\u001b[39;00m\n\u001b[1;32m---> 90\u001b[0m \u001b[39mfor\u001b[39;00m line \u001b[39min\u001b[39;00m resp\u001b[39m.\u001b[39miter_lines(\n\u001b[0;32m     91\u001b[0m     chunk_size\u001b[39m=\u001b[39m\u001b[39mself\u001b[39m\u001b[39m.\u001b[39mchunk_size\n\u001b[0;32m     92\u001b[0m ):\n\u001b[0;32m     93\u001b[0m     \u001b[39mif\u001b[39;00m line:\n\u001b[0;32m     94\u001b[0m         \u001b[39mself\u001b[39m\u001b[39m.\u001b[39mon_data(line)\n",
      "File \u001b[1;32mc:\\Users\\VladD\\AppData\\Local\\Programs\\Python\\Python311\\Lib\\site-packages\\requests\\models.py:865\u001b[0m, in \u001b[0;36mResponse.iter_lines\u001b[1;34m(self, chunk_size, decode_unicode, delimiter)\u001b[0m\n\u001b[0;32m    856\u001b[0m \u001b[39m\u001b[39m\u001b[39m\"\"\"Iterates over the response data, one line at a time.  When\u001b[39;00m\n\u001b[0;32m    857\u001b[0m \u001b[39mstream=True is set on the request, this avoids reading the\u001b[39;00m\n\u001b[0;32m    858\u001b[0m \u001b[39mcontent at once into memory for large responses.\u001b[39;00m\n\u001b[0;32m    859\u001b[0m \n\u001b[0;32m    860\u001b[0m \u001b[39m.. note:: This method is not reentrant safe.\u001b[39;00m\n\u001b[0;32m    861\u001b[0m \u001b[39m\"\"\"\u001b[39;00m\n\u001b[0;32m    863\u001b[0m pending \u001b[39m=\u001b[39m \u001b[39mNone\u001b[39;00m\n\u001b[1;32m--> 865\u001b[0m \u001b[39mfor\u001b[39;00m chunk \u001b[39min\u001b[39;00m \u001b[39mself\u001b[39m\u001b[39m.\u001b[39miter_content(\n\u001b[0;32m    866\u001b[0m     chunk_size\u001b[39m=\u001b[39mchunk_size, decode_unicode\u001b[39m=\u001b[39mdecode_unicode\n\u001b[0;32m    867\u001b[0m ):\n\u001b[0;32m    869\u001b[0m     \u001b[39mif\u001b[39;00m pending \u001b[39mis\u001b[39;00m \u001b[39mnot\u001b[39;00m \u001b[39mNone\u001b[39;00m:\n\u001b[0;32m    870\u001b[0m         chunk \u001b[39m=\u001b[39m pending \u001b[39m+\u001b[39m chunk\n",
      "File \u001b[1;32mc:\\Users\\VladD\\AppData\\Local\\Programs\\Python\\Python311\\Lib\\site-packages\\requests\\models.py:816\u001b[0m, in \u001b[0;36mResponse.iter_content.<locals>.generate\u001b[1;34m()\u001b[0m\n\u001b[0;32m    814\u001b[0m \u001b[39mif\u001b[39;00m \u001b[39mhasattr\u001b[39m(\u001b[39mself\u001b[39m\u001b[39m.\u001b[39mraw, \u001b[39m\"\u001b[39m\u001b[39mstream\u001b[39m\u001b[39m\"\u001b[39m):\n\u001b[0;32m    815\u001b[0m     \u001b[39mtry\u001b[39;00m:\n\u001b[1;32m--> 816\u001b[0m         \u001b[39myield from\u001b[39;00m \u001b[39mself\u001b[39m\u001b[39m.\u001b[39mraw\u001b[39m.\u001b[39mstream(chunk_size, decode_content\u001b[39m=\u001b[39m\u001b[39mTrue\u001b[39;00m)\n\u001b[0;32m    817\u001b[0m     \u001b[39mexcept\u001b[39;00m ProtocolError \u001b[39mas\u001b[39;00m e:\n\u001b[0;32m    818\u001b[0m         \u001b[39mraise\u001b[39;00m ChunkedEncodingError(e)\n",
      "File \u001b[1;32mc:\\Users\\VladD\\AppData\\Local\\Programs\\Python\\Python311\\Lib\\site-packages\\urllib3\\response.py:624\u001b[0m, in \u001b[0;36mHTTPResponse.stream\u001b[1;34m(self, amt, decode_content)\u001b[0m\n\u001b[0;32m    608\u001b[0m \u001b[39m\u001b[39m\u001b[39m\"\"\"\u001b[39;00m\n\u001b[0;32m    609\u001b[0m \u001b[39mA generator wrapper for the read() method. A call will block until\u001b[39;00m\n\u001b[0;32m    610\u001b[0m \u001b[39m``amt`` bytes have been read from the connection or until the\u001b[39;00m\n\u001b[1;32m   (...)\u001b[0m\n\u001b[0;32m    621\u001b[0m \u001b[39m    'content-encoding' header.\u001b[39;00m\n\u001b[0;32m    622\u001b[0m \u001b[39m\"\"\"\u001b[39;00m\n\u001b[0;32m    623\u001b[0m \u001b[39mif\u001b[39;00m \u001b[39mself\u001b[39m\u001b[39m.\u001b[39mchunked \u001b[39mand\u001b[39;00m \u001b[39mself\u001b[39m\u001b[39m.\u001b[39msupports_chunked_reads():\n\u001b[1;32m--> 624\u001b[0m     \u001b[39mfor\u001b[39;00m line \u001b[39min\u001b[39;00m \u001b[39mself\u001b[39m\u001b[39m.\u001b[39mread_chunked(amt, decode_content\u001b[39m=\u001b[39mdecode_content):\n\u001b[0;32m    625\u001b[0m         \u001b[39myield\u001b[39;00m line\n\u001b[0;32m    626\u001b[0m \u001b[39melse\u001b[39;00m:\n",
      "File \u001b[1;32mc:\\Users\\VladD\\AppData\\Local\\Programs\\Python\\Python311\\Lib\\site-packages\\urllib3\\response.py:828\u001b[0m, in \u001b[0;36mHTTPResponse.read_chunked\u001b[1;34m(self, amt, decode_content)\u001b[0m\n\u001b[0;32m    825\u001b[0m     \u001b[39mreturn\u001b[39;00m\n\u001b[0;32m    827\u001b[0m \u001b[39mwhile\u001b[39;00m \u001b[39mTrue\u001b[39;00m:\n\u001b[1;32m--> 828\u001b[0m     \u001b[39mself\u001b[39;49m\u001b[39m.\u001b[39;49m_update_chunk_length()\n\u001b[0;32m    829\u001b[0m     \u001b[39mif\u001b[39;00m \u001b[39mself\u001b[39m\u001b[39m.\u001b[39mchunk_left \u001b[39m==\u001b[39m \u001b[39m0\u001b[39m:\n\u001b[0;32m    830\u001b[0m         \u001b[39mbreak\u001b[39;00m\n",
      "File \u001b[1;32mc:\\Users\\VladD\\AppData\\Local\\Programs\\Python\\Python311\\Lib\\site-packages\\urllib3\\response.py:758\u001b[0m, in \u001b[0;36mHTTPResponse._update_chunk_length\u001b[1;34m(self)\u001b[0m\n\u001b[0;32m    756\u001b[0m \u001b[39mif\u001b[39;00m \u001b[39mself\u001b[39m\u001b[39m.\u001b[39mchunk_left \u001b[39mis\u001b[39;00m \u001b[39mnot\u001b[39;00m \u001b[39mNone\u001b[39;00m:\n\u001b[0;32m    757\u001b[0m     \u001b[39mreturn\u001b[39;00m\n\u001b[1;32m--> 758\u001b[0m line \u001b[39m=\u001b[39m \u001b[39mself\u001b[39m\u001b[39m.\u001b[39m_fp\u001b[39m.\u001b[39mfp\u001b[39m.\u001b[39mreadline()\n\u001b[0;32m    759\u001b[0m line \u001b[39m=\u001b[39m line\u001b[39m.\u001b[39msplit(\u001b[39mb\u001b[39m\u001b[39m\"\u001b[39m\u001b[39m;\u001b[39m\u001b[39m\"\u001b[39m, \u001b[39m1\u001b[39m)[\u001b[39m0\u001b[39m]\n\u001b[0;32m    760\u001b[0m \u001b[39mtry\u001b[39;00m:\n",
      "File \u001b[1;32mc:\\Users\\VladD\\AppData\\Local\\Programs\\Python\\Python311\\Lib\\socket.py:706\u001b[0m, in \u001b[0;36mSocketIO.readinto\u001b[1;34m(self, b)\u001b[0m\n\u001b[0;32m    704\u001b[0m \u001b[39mwhile\u001b[39;00m \u001b[39mTrue\u001b[39;00m:\n\u001b[0;32m    705\u001b[0m     \u001b[39mtry\u001b[39;00m:\n\u001b[1;32m--> 706\u001b[0m         \u001b[39mreturn\u001b[39;00m \u001b[39mself\u001b[39;49m\u001b[39m.\u001b[39;49m_sock\u001b[39m.\u001b[39;49mrecv_into(b)\n\u001b[0;32m    707\u001b[0m     \u001b[39mexcept\u001b[39;00m timeout:\n\u001b[0;32m    708\u001b[0m         \u001b[39mself\u001b[39m\u001b[39m.\u001b[39m_timeout_occurred \u001b[39m=\u001b[39m \u001b[39mTrue\u001b[39;00m\n",
      "File \u001b[1;32mc:\\Users\\VladD\\AppData\\Local\\Programs\\Python\\Python311\\Lib\\ssl.py:1278\u001b[0m, in \u001b[0;36mSSLSocket.recv_into\u001b[1;34m(self, buffer, nbytes, flags)\u001b[0m\n\u001b[0;32m   1274\u001b[0m     \u001b[39mif\u001b[39;00m flags \u001b[39m!=\u001b[39m \u001b[39m0\u001b[39m:\n\u001b[0;32m   1275\u001b[0m         \u001b[39mraise\u001b[39;00m \u001b[39mValueError\u001b[39;00m(\n\u001b[0;32m   1276\u001b[0m           \u001b[39m\"\u001b[39m\u001b[39mnon-zero flags not allowed in calls to recv_into() on \u001b[39m\u001b[39m%s\u001b[39;00m\u001b[39m\"\u001b[39m \u001b[39m%\u001b[39m\n\u001b[0;32m   1277\u001b[0m           \u001b[39mself\u001b[39m\u001b[39m.\u001b[39m\u001b[39m__class__\u001b[39m)\n\u001b[1;32m-> 1278\u001b[0m     \u001b[39mreturn\u001b[39;00m \u001b[39mself\u001b[39;49m\u001b[39m.\u001b[39;49mread(nbytes, buffer)\n\u001b[0;32m   1279\u001b[0m \u001b[39melse\u001b[39;00m:\n\u001b[0;32m   1280\u001b[0m     \u001b[39mreturn\u001b[39;00m \u001b[39msuper\u001b[39m()\u001b[39m.\u001b[39mrecv_into(buffer, nbytes, flags)\n",
      "File \u001b[1;32mc:\\Users\\VladD\\AppData\\Local\\Programs\\Python\\Python311\\Lib\\ssl.py:1134\u001b[0m, in \u001b[0;36mSSLSocket.read\u001b[1;34m(self, len, buffer)\u001b[0m\n\u001b[0;32m   1132\u001b[0m \u001b[39mtry\u001b[39;00m:\n\u001b[0;32m   1133\u001b[0m     \u001b[39mif\u001b[39;00m buffer \u001b[39mis\u001b[39;00m \u001b[39mnot\u001b[39;00m \u001b[39mNone\u001b[39;00m:\n\u001b[1;32m-> 1134\u001b[0m         \u001b[39mreturn\u001b[39;00m \u001b[39mself\u001b[39;49m\u001b[39m.\u001b[39;49m_sslobj\u001b[39m.\u001b[39;49mread(\u001b[39mlen\u001b[39;49m, buffer)\n\u001b[0;32m   1135\u001b[0m     \u001b[39melse\u001b[39;00m:\n\u001b[0;32m   1136\u001b[0m         \u001b[39mreturn\u001b[39;00m \u001b[39mself\u001b[39m\u001b[39m.\u001b[39m_sslobj\u001b[39m.\u001b[39mread(\u001b[39mlen\u001b[39m)\n",
      "\u001b[1;31mKeyboardInterrupt\u001b[0m: "
     ]
    }
   ],
   "source": [
    "stream = MyStream(bearer_token=credentials.BEARER_TOKEN,wait_on_rate_limit=True)\n",
    "\n",
    "# CLEARS RULESET BEFORE STREAMING DATA\n",
    "for rule in stream.get_rules().data:\n",
    "        stream.delete_rules(rule.id)\n",
    "\n",
    "# ADDING RULES TO RULESET TO STREAM SPECIFIC DATA - ONLY ORIGINAL ENGLISH TWEETS WITH NO ATACHMENTS AND FILTERED QUERY ARE STORED.\n",
    "stream.add_rules(tweepy.StreamRule('(#ETH OR ethereum OR #ethereum OR #crypto) -is:retweet -is:quote -is:reply -has:media lang:en -#sportsbet -\"Price Update\" -\"getting some\" -signal -minted -#Giveaway -\"transferred from\" -\"check out this item\" -airdrop -\"Public Sale\"  -whitelist -\"ETH Wallet\" -\"Eth Address\" -link -gwei -faucet -excesscaps -bounty -token -\"ICO\" -\"presale\" -\"pump and dump\" -\"technical analysis\" -\"staking rewards\" -\"staking pool\"'))\n",
    "#START STREAM\n",
    "stream.filter(expansions=[\"author_id\",],tweet_fields=[\"created_at\",\"referenced_tweets\",\"lang\",\"attachments\"]) \n",
    "\n"
   ]
  },
  {
   "cell_type": "code",
   "execution_count": 12,
   "metadata": {},
   "outputs": [
    {
     "name": "stdout",
     "output_type": "stream",
     "text": [
      "Response(data=[StreamRule(value='#ETH OR ether OR ethereum OR #ethereum OR #crypto OR blockchain OR cryptocurrency OR decentralized OR \"smart contract\" -is:retweet -is:quote -is:reply -has:media lang:en -#sportsbet -\"Price Update\" -\"getting some\" -signal -minted -#Giveaway -\"transferred from\" -\"check out this item\" -airdrop -\"Public Sale\"  -whitelist -\"ETH Wallet\" -\"Eth Address\" -link -gwei -faucet -excesscaps -bounty -token -\"ICO\" -\"presale\" -\"pump and dump\" -\"technical analysis\" -\"staking rewards\" -\"staking pool\"', tag=None, id='1642620610630090757')], includes={}, errors=[], meta={'sent': '2023-04-02T20:11:15.952Z', 'result_count': 1})\n"
     ]
    }
   ],
   "source": [
    "stream.get_rules()\n",
    "print(stream.get_rules())"
   ]
  }
 ],
 "metadata": {
  "kernelspec": {
   "display_name": "Python 3",
   "language": "python",
   "name": "python3"
  },
  "language_info": {
   "codemirror_mode": {
    "name": "ipython",
    "version": 3
   },
   "file_extension": ".py",
   "mimetype": "text/x-python",
   "name": "python",
   "nbconvert_exporter": "python",
   "pygments_lexer": "ipython3",
   "version": "3.11.2"
  },
  "orig_nbformat": 4,
  "vscode": {
   "interpreter": {
    "hash": "07c051f346e5969b263a1addfefc87f80c5190f6c0dc806b8f322a72f7a77c14"
   }
  }
 },
 "nbformat": 4,
 "nbformat_minor": 2
}
